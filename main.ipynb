{
 "cells": [
  {
   "cell_type": "code",
   "execution_count": 19,
   "metadata": {},
   "outputs": [],
   "source": [
    "import pandas as pd\n",
    "import numpy as np\n",
    "from sklearn.impute import KNNImputer\n",
    "\n",
    "data = pd.read_excel('./2 -Entrepreneurial competency in university students.xlsx')"
   ]
  },
  {
   "cell_type": "code",
   "execution_count": 20,
   "metadata": {},
   "outputs": [],
   "source": [
    "# Check if there are any duplicates:\n",
    "there_are_no_duplicates = len(data.drop_duplicates()) == len(data)"
   ]
  },
  {
   "cell_type": "code",
   "execution_count": 21,
   "metadata": {},
   "outputs": [],
   "source": [
    "# Format column names to PascalCase:\n",
    "data.columns = data.columns.str.strip().str.replace(' ', '').str.replace('-', '').str.replace('_', '').str.replace('Targetentcompetency', 'TargetEntCompetency')\n"
   ]
  },
  {
   "cell_type": "code",
   "execution_count": 22,
   "metadata": {},
   "outputs": [],
   "source": [
    "# Standardize Gender column:\n",
    "data[\"Gender\"] = data[\"Gender\"].map({ \"Male\":\"M\",\"Female\":\"F\", \"female\":\"F\", \"male\":\"M\"})"
   ]
  },
  {
   "cell_type": "code",
   "execution_count": 23,
   "metadata": {},
   "outputs": [],
   "source": [
    "# Standardize all Boolean columns:\n",
    "boolean_columns = [\n",
    "    \"Influenced\",\n",
    "    \"City\",\n",
    "    \"MentalDisorder\",\n",
    "    \"TargetIndividualProject\",\n",
    "    \"TargetEntCompetency\",\n",
    "]\n",
    "\n",
    "def standardize_booleans(columnName):\n",
    "    data[columnName] = data[columnName].map(\n",
    "        {\n",
    "            x: True if x == \"Yes\" or x == \"yes\" or x == \"1\" or x == 1 else False\n",
    "            for x in data[columnName]\n",
    "        }\n",
    "    )\n",
    "\n",
    "\n",
    "for i in boolean_columns:\n",
    "    standardize_booleans(i)\n"
   ]
  },
  {
   "cell_type": "code",
   "execution_count": 24,
   "metadata": {},
   "outputs": [],
   "source": [
    "# Impute missing values:\n",
    "\n",
    "imputer = KNNImputer(n_neighbors = 5)\n",
    "columnNames = data.columns[data.isnull().any()].tolist()[0:-1]\n",
    "data[columnNames] = imputer.fit_transform(data[columnNames])\n"
   ]
  },
  {
   "cell_type": "code",
   "execution_count": 25,
   "metadata": {},
   "outputs": [],
   "source": [
    "# Convert all numerical columns to int:\n",
    "\n",
    "numerical = data.select_dtypes(include=np.number)\n",
    "data[numerical.columns] = numerical.astype(int)"
   ]
  },
  {
   "cell_type": "code",
   "execution_count": 26,
   "metadata": {},
   "outputs": [],
   "source": [
    "# Export data to CSV:\n",
    "\n",
    "data.to_csv('cleaned.csv')"
   ]
  }
 ],
 "metadata": {
  "kernelspec": {
   "display_name": "Python 3",
   "language": "python",
   "name": "python3"
  },
  "language_info": {
   "codemirror_mode": {
    "name": "ipython",
    "version": 3
   },
   "file_extension": ".py",
   "mimetype": "text/x-python",
   "name": "python",
   "nbconvert_exporter": "python",
   "pygments_lexer": "ipython3",
   "version": "3.9.6"
  },
  "orig_nbformat": 4
 },
 "nbformat": 4,
 "nbformat_minor": 2
}
